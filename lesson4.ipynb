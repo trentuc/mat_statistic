{
 "cells": [
  {
   "cell_type": "code",
   "execution_count": 6,
   "metadata": {},
   "outputs": [],
   "source": [
    "import numpy as np"
   ]
  },
  {
   "cell_type": "markdown",
   "metadata": {},
   "source": [
    "1. Случайная непрерывная величина A имеет равномерное распределение на промежутке (200, 800].\n",
    "Найдите ее среднее значение и дисперсию."
   ]
  },
  {
   "cell_type": "markdown",
   "metadata": {},
   "source": [
    "Для равномерного распределения $D(X) = \\frac{(b - a)^2}{12}$.\n",
    "Среднее значение $M(X) = \\frac{a + b}{2}$"
   ]
  },
  {
   "cell_type": "code",
   "execution_count": 7,
   "metadata": {},
   "outputs": [],
   "source": [
    "b = 800\n",
    "a = 200"
   ]
  },
  {
   "cell_type": "code",
   "execution_count": 8,
   "metadata": {},
   "outputs": [
    {
     "data": {
      "text/plain": [
       "500.0"
      ]
     },
     "execution_count": 8,
     "metadata": {},
     "output_type": "execute_result"
    }
   ],
   "source": [
    "#Среднее значение\n",
    "M_x = (a + b) / 2\n",
    "M_x"
   ]
  },
  {
   "cell_type": "code",
   "execution_count": 9,
   "metadata": {},
   "outputs": [
    {
     "data": {
      "text/plain": [
       "30000.0"
      ]
     },
     "execution_count": 9,
     "metadata": {},
     "output_type": "execute_result"
    }
   ],
   "source": [
    "#Дисперсия\n",
    "D_x = (b - a)**2/12\n",
    "D_x"
   ]
  },
  {
   "cell_type": "markdown",
   "metadata": {},
   "source": [
    "2. О случайной непрерывной равномерно распределенной величине B известно, что ее дисперсия равна 0.2.\n",
    "    Можно ли найти правую границу величины B и ее среднее значение зная, что левая граница равна 0.5?\n",
    "    Если да, найдите ее."
   ]
  },
  {
   "cell_type": "markdown",
   "metadata": {},
   "source": [
    "$D(X) = \\frac{(b - a)^2}{12}$. Отсюда $b = a + \\sqrt{12 \\cdot D}$"
   ]
  },
  {
   "cell_type": "code",
   "execution_count": 10,
   "metadata": {},
   "outputs": [],
   "source": [
    "D_x = 0.2\n",
    "a = 0.5"
   ]
  },
  {
   "cell_type": "code",
   "execution_count": 11,
   "metadata": {},
   "outputs": [
    {
     "data": {
      "text/plain": [
       "2.049193338482967"
      ]
     },
     "execution_count": 11,
     "metadata": {},
     "output_type": "execute_result"
    }
   ],
   "source": [
    "b = a + np.sqrt(12*D_x)\n",
    "b"
   ]
  },
  {
   "cell_type": "code",
   "execution_count": 12,
   "metadata": {},
   "outputs": [
    {
     "data": {
      "text/plain": [
       "1.2745966692414834"
      ]
     },
     "execution_count": 12,
     "metadata": {},
     "output_type": "execute_result"
    }
   ],
   "source": [
    "M_x = (a + b)/2\n",
    "M_x"
   ]
  },
  {
   "cell_type": "markdown",
   "metadata": {},
   "source": [
    "Непрерывная случайная величина X распределена нормально и задана плотностью распределения\n",
    "    f(x) = (1 / (4 * sqrt(2*pi))) * (exp(-((x+2)**2) / 32))\n",
    "    Найдите:\n",
    "    а). M(X)\n",
    "    б). D(X)\n",
    "    в). std(X) (среднее квадратичное отклонение)"
   ]
  },
  {
   "cell_type": "markdown",
   "metadata": {},
   "source": [
    "$$f(x) = \\frac{1}{\\sigma \\sqrt{2 \\pi}} e ^ {- \\frac{(x - a)^2}{2 \\sigma^2}},$$ где $a = M(X), \\; \\sigma^2 = D(X).$"
   ]
  },
  {
   "cell_type": "code",
   "execution_count": 13,
   "metadata": {},
   "outputs": [],
   "source": [
    "std_x = 4\n",
    "M_x = -2\n",
    "D_x = 16"
   ]
  },
  {
   "cell_type": "markdown",
   "metadata": {},
   "source": [
    "Рост взрослого населения города X имеет нормальное распределение.\n",
    "    Причем, средний рост равен 174 см, а среднее квадратичное отклонение равно 8 см.\n",
    "    Какова вероятность того, что случайным образом выбранный взрослый человек имеет рост:\n",
    "    а). больше 182 см\n",
    "    б). больше 190 см\n",
    "    в). от 166 см до 190 см\n",
    "    г). от 166 см до 182 см\n",
    "    д). от 158 см до 190 см\n",
    "    е). не выше 150 см или не ниже 190 см\n",
    "    ё). не выше 150 см или не ниже 198 см\n",
    "    ж). ниже 166 см."
   ]
  },
  {
   "cell_type": "code",
   "execution_count": 14,
   "metadata": {},
   "outputs": [],
   "source": [
    "M_x = 174\n",
    "sigma = 8\n"
   ]
  },
  {
   "cell_type": "code",
   "execution_count": 15,
   "metadata": {},
   "outputs": [
    {
     "name": "stdout",
     "output_type": "stream",
     "text": [
      "1.0\n"
     ]
    }
   ],
   "source": [
    "#Какова вероятность того, что случайным образом выбранный взрослый человек имеет рост: а). больше 182 см\n",
    "# переходим к стандартному нормальному распределению\n",
    "T = 182\n",
    "Z = (T-M_x)/sigma\n",
    "print(Z)\n"
   ]
  },
  {
   "cell_type": "code",
   "execution_count": 16,
   "metadata": {},
   "outputs": [
    {
     "name": "stdout",
     "output_type": "stream",
     "text": [
      " P_a = 15.87%\n"
     ]
    }
   ],
   "source": [
    "# по таблице накопленного нормального распределения\n",
    "P_a = 1 - 0.8413\n",
    "print(f\" P_a = {round(P_a*100,2)}%\")"
   ]
  },
  {
   "cell_type": "code",
   "execution_count": 17,
   "metadata": {},
   "outputs": [
    {
     "name": "stdout",
     "output_type": "stream",
     "text": [
      "2.0\n"
     ]
    }
   ],
   "source": [
    "#Какова вероятность того, что случайным образом выбранный взрослый человек имеет рост: б). больше 190 см\n",
    "# переходим к стандартному нормальному распределению\n",
    "T = 190\n",
    "Z = (T-M_x)/sigma\n",
    "print(Z)"
   ]
  },
  {
   "cell_type": "code",
   "execution_count": 18,
   "metadata": {},
   "outputs": [
    {
     "name": "stdout",
     "output_type": "stream",
     "text": [
      " P_b = 2.28%\n"
     ]
    }
   ],
   "source": [
    "# по таблице накопленного нормального распределения\n",
    "P_b = 1 - 0.9772\n",
    "print(f\" P_b = {round(P_b*100,2)}%\")"
   ]
  },
  {
   "cell_type": "code",
   "execution_count": 19,
   "metadata": {},
   "outputs": [],
   "source": [
    "# Или графически по правилу 3 сигм: от -sigma до sigma: (99.72% - 95,4%)/2 = 2,16%"
   ]
  },
  {
   "cell_type": "code",
   "execution_count": 20,
   "metadata": {},
   "outputs": [
    {
     "name": "stdout",
     "output_type": "stream",
     "text": [
      "-1.0\n"
     ]
    }
   ],
   "source": [
    "#Какова вероятность того, что случайным образом выбранный взрослый человек имеет рост: ж). ниже 166 см\n",
    "# переходим к стандартному нормальному распределению\n",
    "T = 166\n",
    "Z = (T-M_x)/sigma\n",
    "print(Z)"
   ]
  },
  {
   "cell_type": "code",
   "execution_count": 21,
   "metadata": {},
   "outputs": [
    {
     "name": "stdout",
     "output_type": "stream",
     "text": [
      " P_zh = 15.87%\n"
     ]
    }
   ],
   "source": [
    "# по таблице накопленного нормального распределения\n",
    "P_zh = 0.1587\n",
    "print(f\" P_zh = {round(P_zh*100,2)}%\")"
   ]
  },
  {
   "cell_type": "code",
   "execution_count": 22,
   "metadata": {},
   "outputs": [
    {
     "name": "stdout",
     "output_type": "stream",
     "text": [
      " P_v = 81.85%\n"
     ]
    }
   ],
   "source": [
    "#Какова вероятность того, что случайным образом выбранный взрослый человек имеет рост: в). от 166 см до 190 см\n",
    "P_v = 1 - (P_zh + P_b)\n",
    "print(f\" P_v = {round(P_v*100,2)}%\")"
   ]
  },
  {
   "cell_type": "code",
   "execution_count": 23,
   "metadata": {},
   "outputs": [],
   "source": [
    "# Или графически по правилу 3 сигм: (95.4%-68%)/2+68%=81,7%"
   ]
  },
  {
   "cell_type": "code",
   "execution_count": 24,
   "metadata": {},
   "outputs": [
    {
     "name": "stdout",
     "output_type": "stream",
     "text": [
      " P_g = 68.26%\n"
     ]
    }
   ],
   "source": [
    "#Какова вероятность того, что случайным образом выбранный взрослый человек имеет рост: г). от 166 см до 182 см\n",
    "P_g = 1 - (P_zh + P_a)\n",
    "print(f\" P_g = {round(P_g*100,2)}%\")"
   ]
  },
  {
   "cell_type": "code",
   "execution_count": 25,
   "metadata": {},
   "outputs": [],
   "source": [
    "# Или графически по правилу 3 сигм: от -sigma до sigma: 68%"
   ]
  },
  {
   "cell_type": "code",
   "execution_count": 26,
   "metadata": {},
   "outputs": [
    {
     "name": "stdout",
     "output_type": "stream",
     "text": [
      " P_d = 95.44%\n"
     ]
    }
   ],
   "source": [
    "#Какова вероятность того, что случайным образом выбранный взрослый человек имеет рост: д). от 158 см до 190 см \n",
    "P_158 = 0.0228\n",
    "P_d = 1 - (P_158 + P_b)\n",
    "print(f\" P_d = {round(P_d*100,2)}%\")"
   ]
  },
  {
   "cell_type": "code",
   "execution_count": 27,
   "metadata": {},
   "outputs": [],
   "source": [
    "# Или графически по правилу 3 сигм: от - 2sigma до 2sigma: 95,4%"
   ]
  },
  {
   "cell_type": "code",
   "execution_count": 28,
   "metadata": {},
   "outputs": [
    {
     "name": "stdout",
     "output_type": "stream",
     "text": [
      "-3.0\n"
     ]
    }
   ],
   "source": [
    "#Какова вероятность того, что случайным образом выбранный взрослый человек имеет рост:е).не выше 150 см или не ниже 190 см\n",
    "T = 150\n",
    "Z = (T-M_x)/sigma\n",
    "print(Z)"
   ]
  },
  {
   "cell_type": "code",
   "execution_count": 29,
   "metadata": {},
   "outputs": [
    {
     "name": "stdout",
     "output_type": "stream",
     "text": [
      " P_e = 2.42%\n"
     ]
    }
   ],
   "source": [
    "# по таблице накопленного нормального распределения P(<-3.0)=0.0014\n",
    "P_e = P_b + 0.0014\n",
    "print(f\" P_e = {round(P_e*100,2)}%\")"
   ]
  },
  {
   "cell_type": "code",
   "execution_count": 30,
   "metadata": {},
   "outputs": [],
   "source": [
    "# Или графически по правилу 3 сигм: (100%-99,72%)/2 + (99,72%-95,4%)/2 = 2,3%"
   ]
  },
  {
   "cell_type": "code",
   "execution_count": 31,
   "metadata": {},
   "outputs": [
    {
     "name": "stdout",
     "output_type": "stream",
     "text": [
      " P_Ё = 0.28%\n"
     ]
    }
   ],
   "source": [
    "#Какова вероятность того, что случайным образом выбранный взрослый человек имеет рост: ё). не выше 150 см или не ниже 198 см\n",
    "# правило 3 сигм\n",
    "P_Ё = 100 - 99.72\n",
    "print(f\" P_Ё = {round(P_Ё,2)}%\")"
   ]
  },
  {
   "cell_type": "code",
   "execution_count": 32,
   "metadata": {},
   "outputs": [
    {
     "name": "stdout",
     "output_type": "stream",
     "text": [
      " P_ = 0.28%\n"
     ]
    }
   ],
   "source": [
    "P_ = 0.0014 + (1 - 0.9986)\n",
    "print(f\" P_ = {round(P_*100,2)}%\")"
   ]
  },
  {
   "cell_type": "markdown",
   "metadata": {},
   "source": [
    "4. На сколько сигм (средних квадратичных отклонений) отклоняется рост человека, равный 190 см, от\n",
    "    математического ожидания роста в популяции, в которой M(X) = 178 см и D(X) = 25 кв.см?"
   ]
  },
  {
   "cell_type": "code",
   "execution_count": 33,
   "metadata": {},
   "outputs": [
    {
     "data": {
      "text/plain": [
       "2.4"
      ]
     },
     "execution_count": 33,
     "metadata": {},
     "output_type": "execute_result"
    }
   ],
   "source": [
    "X = 190\n",
    "M_x = 178\n",
    "D_x = 25\n",
    "Z = (X - M_x) / np.sqrt(D_x)\n",
    "Z"
   ]
  },
  {
   "cell_type": "code",
   "execution_count": null,
   "metadata": {},
   "outputs": [],
   "source": []
  }
 ],
 "metadata": {
  "kernelspec": {
   "display_name": "Python 3",
   "language": "python",
   "name": "python3"
  },
  "language_info": {
   "codemirror_mode": {
    "name": "ipython",
    "version": 3
   },
   "file_extension": ".py",
   "mimetype": "text/x-python",
   "name": "python",
   "nbconvert_exporter": "python",
   "pygments_lexer": "ipython3",
   "version": "3.8.5"
  }
 },
 "nbformat": 4,
 "nbformat_minor": 4
}
