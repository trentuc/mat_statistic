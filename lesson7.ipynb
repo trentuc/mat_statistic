{
 "cells": [
  {
   "cell_type": "code",
   "execution_count": 163,
   "metadata": {},
   "outputs": [],
   "source": [
    "from scipy import stats\n",
    "import numpy as np\n",
    "import pandas as pd\n",
    "from matplotlib import pyplot as plt\n",
    "from itertools import combinations"
   ]
  },
  {
   "cell_type": "markdown",
   "metadata": {},
   "source": [
    "1. Даны значения величины заработной платы заемщиков банка (zp) и значения их поведенческого кредитного скоринга (ks): zp = [35, 45, 190, 200, 40, 70, 54, 150, 120, 110], ks = [401, 574, 874, 919, 459, 739, 653, 902, 746, 832]. Используя математические операции, посчитать коэффициенты линейной регрессии, приняв за X заработную плату (то есть, zp - признак), а за y - значения скорингового балла (то есть, ks - целевая переменная). Произвести расчет как с использованием intercept, так и без."
   ]
  },
  {
   "cell_type": "code",
   "execution_count": 164,
   "metadata": {},
   "outputs": [],
   "source": [
    "n = 10\n",
    "zp = np.array([35, 45, 190, 200, 40, 70, 54, 150, 120, 110])\n",
    "ks = np.array([401, 574, 874, 919, 459, 739, 653, 902, 746, 832])"
   ]
  },
  {
   "cell_type": "markdown",
   "metadata": {},
   "source": [
    "$$b = \\frac{\\overline{yx} - \\overline{y} \\cdot {\\overline{x}}}{\\overline{x^2} - (\\overline{x})^2};$$"
   ]
  },
  {
   "cell_type": "markdown",
   "metadata": {},
   "source": [
    "$$a = \\overline{y} - b \\cdot {\\overline{x}}.$$"
   ]
  },
  {
   "cell_type": "markdown",
   "metadata": {},
   "source": [
    "Рассчет с использованием интерсепта:"
   ]
  },
  {
   "cell_type": "code",
   "execution_count": 165,
   "metadata": {},
   "outputs": [
    {
     "data": {
      "text/plain": [
       "2.620538882402765"
      ]
     },
     "execution_count": 165,
     "metadata": {},
     "output_type": "execute_result"
    }
   ],
   "source": [
    "B1_1 = (np.mean(zp * ks) - (np.mean(zp) * np.mean(ks))) / (np.mean(zp**2) - np.mean(zp) ** 2)\n",
    "B1_1"
   ]
  },
  {
   "cell_type": "code",
   "execution_count": 166,
   "metadata": {},
   "outputs": [
    {
     "data": {
      "text/plain": [
       "444.1773573243596"
      ]
     },
     "execution_count": 166,
     "metadata": {},
     "output_type": "execute_result"
    }
   ],
   "source": [
    "A1 = np.mean(ks) - B1_1 * np.mean(zp)\n",
    "A1"
   ]
  },
  {
   "cell_type": "markdown",
   "metadata": {},
   "source": [
    "использование матричного метода:"
   ]
  },
  {
   "cell_type": "code",
   "execution_count": 167,
   "metadata": {},
   "outputs": [
    {
     "data": {
      "text/plain": [
       "array([[  1.,  35.],\n",
       "       [  1.,  45.],\n",
       "       [  1., 190.],\n",
       "       [  1., 200.],\n",
       "       [  1.,  40.],\n",
       "       [  1.,  70.],\n",
       "       [  1.,  54.],\n",
       "       [  1., 150.],\n",
       "       [  1., 120.],\n",
       "       [  1., 110.]])"
      ]
     },
     "execution_count": 167,
     "metadata": {},
     "output_type": "execute_result"
    }
   ],
   "source": [
    "x1 = zp.reshape(len(zp), 1)\n",
    "y1 = ks.reshape(len(ks), 1)\n",
    "X1 = np.hstack([np.ones((10,1)), x1])\n",
    "X1"
   ]
  },
  {
   "cell_type": "code",
   "execution_count": 168,
   "metadata": {},
   "outputs": [
    {
     "data": {
      "text/plain": [
       "array([[444.17735732],\n",
       "       [  2.62053888]])"
      ]
     },
     "execution_count": 168,
     "metadata": {},
     "output_type": "execute_result"
    }
   ],
   "source": [
    "B1_1_1 = np.dot(np.linalg.inv(np.dot(X1.T,X1)),X1.T@y1)\n",
    "B1_1_1"
   ]
  },
  {
   "cell_type": "code",
   "execution_count": 169,
   "metadata": {},
   "outputs": [
    {
     "data": {
      "text/plain": [
       "array([535.89621821, 562.10160703, 942.07974498, 968.2851338 ,\n",
       "       548.99891262, 627.61507909, 585.68645697, 837.25818968,\n",
       "       758.64202321, 732.43663439])"
      ]
     },
     "execution_count": 169,
     "metadata": {},
     "output_type": "execute_result"
    }
   ],
   "source": [
    "y_hat1_ = A1 + (B1_1 * zp)\n",
    "y_hat1_"
   ]
  },
  {
   "cell_type": "code",
   "execution_count": 170,
   "metadata": {},
   "outputs": [
    {
     "data": {
      "text/plain": [
       "6470.414201176658"
      ]
     },
     "execution_count": 170,
     "metadata": {},
     "output_type": "execute_result"
    }
   ],
   "source": [
    "#Среднеквадратичная ошибка\n",
    "mse1 = ((ks - y_hat1_) ** 2).sum()/n\n",
    "mse1"
   ]
  },
  {
   "cell_type": "markdown",
   "metadata": {},
   "source": [
    "__средняя ошибка аппроксимации__ вычисляется по формуле:\n",
    "$$\\overline{A} = \\frac{1}{n} \\displaystyle\\sum_{i=1}^{n} \\Bigl| {{\\frac{y_i - z_i}{y_i}} \\Bigr|}.$$\n"
   ]
  },
  {
   "cell_type": "markdown",
   "metadata": {},
   "source": [
    "Если $\\overline{A}$ не превышает $8$-$10 \\%$, можно сказать, что теоретические значения близки к тем, которые выдает модель линейной регрессии."
   ]
  },
  {
   "cell_type": "code",
   "execution_count": 171,
   "metadata": {},
   "outputs": [
    {
     "name": "stdout",
     "output_type": "stream",
     "text": [
      "11.5%\n"
     ]
    }
   ],
   "source": [
    "\n",
    "A_mean = 100 * np.mean(np.abs((ks - y_hat1_) / ks))\n",
    "print(f'{round(A_mean,1)}%')"
   ]
  },
  {
   "cell_type": "code",
   "execution_count": 172,
   "metadata": {},
   "outputs": [],
   "source": [
    "df = pd.DataFrame({'zp': zp, 'ks': ks, 'y_hat1_': y_hat1_}, columns=['zp', 'ks', 'y_hat1_'])\n",
    "df = df.sort_values('zp')\n"
   ]
  },
  {
   "cell_type": "code",
   "execution_count": 173,
   "metadata": {},
   "outputs": [
    {
     "data": {
      "image/png": "[encoded data removed]",
      "text/plain": [
       "<Figure size 432x288 with 1 Axes>"
      ]
     },
     "metadata": {
      "needs_background": "light"
     },
     "output_type": "display_data"
    }
   ],
   "source": [
    "plt.scatter(df['zp'], df['ks'])\n",
    "plt.plot(df['zp'], df['y_hat1_'])\n",
    "plt.xlabel('Заработная плата')\n",
    "plt.ylabel('Скоринг')\n",
    "plt.show()"
   ]
  },
  {
   "cell_type": "markdown",
   "metadata": {},
   "source": [
    "расчет без использования интерсепта:"
   ]
  },
  {
   "cell_type": "code",
   "execution_count": 174,
   "metadata": {},
   "outputs": [
    {
     "data": {
      "text/plain": [
       "7.000986193293885"
      ]
     },
     "execution_count": 174,
     "metadata": {},
     "output_type": "execute_result"
    }
   ],
   "source": [
    "B1_2 = np.mean(ks) / np.mean(zp)\n",
    "B1_2"
   ]
  },
  {
   "cell_type": "code",
   "execution_count": 175,
   "metadata": {},
   "outputs": [
    {
     "data": {
      "text/plain": [
       "array([ 245.03451677,  315.0443787 , 1330.18737673, 1400.19723866,\n",
       "        280.03944773,  490.06903353,  378.05325444, 1050.14792899,\n",
       "        840.1183432 ,  770.10848126])"
      ]
     },
     "execution_count": 175,
     "metadata": {},
     "output_type": "execute_result"
    }
   ],
   "source": [
    "y_hat2 = B1_2 * zp\n",
    "y_hat2"
   ]
  },
  {
   "cell_type": "markdown",
   "metadata": {},
   "source": [
    "использование матричного метода:"
   ]
  },
  {
   "cell_type": "code",
   "execution_count": 176,
   "metadata": {},
   "outputs": [
    {
     "data": {
      "text/plain": [
       "array([[5.88982042]])"
      ]
     },
     "execution_count": 176,
     "metadata": {},
     "output_type": "execute_result"
    }
   ],
   "source": [
    "x2 = zp.reshape(len(zp), 1)\n",
    "y2 = ks.reshape(len(ks), 1)\n",
    "B1_2_1 = np.dot(np.linalg.inv(np.dot(x2.T,x2)),x2.T@y2)\n",
    "B1_2_1"
   ]
  },
  {
   "cell_type": "code",
   "execution_count": 177,
   "metadata": {},
   "outputs": [
    {
     "data": {
      "text/plain": [
       "array([ 206.1437147 ,  265.04191891, 1119.06587983, 1177.96408403,\n",
       "        235.59281681,  412.28742941,  318.05030269,  883.47306302,\n",
       "        706.77845042,  647.88024621])"
      ]
     },
     "execution_count": 177,
     "metadata": {},
     "output_type": "execute_result"
    }
   ],
   "source": [
    "y_hat20 = B1_2_1[0] * zp\n",
    "y_hat20"
   ]
  },
  {
   "cell_type": "code",
   "execution_count": 178,
   "metadata": {},
   "outputs": [
    {
     "data": {
      "text/plain": [
       "56516.8584157194"
      ]
     },
     "execution_count": 178,
     "metadata": {},
     "output_type": "execute_result"
    }
   ],
   "source": [
    "#Среднеквадратичная ошибка\n",
    "mse2 = ((ks - y_hat20) ** 2).sum()/n\n",
    "mse2"
   ]
  },
  {
   "cell_type": "code",
   "execution_count": 179,
   "metadata": {},
   "outputs": [],
   "source": [
    "df1 = pd.DataFrame({'zp': zp, 'ks': ks, 'y_hat20': y_hat20}, columns=['zp', 'ks', 'y_hat20'])\n",
    "df1 = df1.sort_values('zp')\n"
   ]
  },
  {
   "cell_type": "code",
   "execution_count": 180,
   "metadata": {},
   "outputs": [
    {
     "data": {
      "image/png": "[encoded data removed]",
      "text/plain": [
       "<Figure size 432x288 with 1 Axes>"
      ]
     },
     "metadata": {
      "needs_background": "light"
     },
     "output_type": "display_data"
    }
   ],
   "source": [
    "plt.scatter(df1['zp'], df1['ks'])\n",
    "plt.plot(df1['zp'], df1['y_hat20'])\n",
    "plt.xlabel('Заработная плата')\n",
    "plt.ylabel('Скоринг')\n",
    "plt.show()"
   ]
  },
  {
   "cell_type": "markdown",
   "metadata": {},
   "source": [
    "2.Посчитать коэффициент линейной регрессии при заработной плате (zp), используя градиентный спуск (без intercept). "
   ]
  },
  {
   "cell_type": "code",
   "execution_count": 181,
   "metadata": {},
   "outputs": [
    {
     "data": {
      "text/plain": [
       "1e-06"
      ]
     },
     "execution_count": 181,
     "metadata": {},
     "output_type": "execute_result"
    }
   ],
   "source": [
    "alpha = 1e-6\n",
    "alpha"
   ]
  },
  {
   "cell_type": "code",
   "execution_count": 182,
   "metadata": {},
   "outputs": [
    {
     "name": "stdout",
     "output_type": "stream",
     "text": [
      "Iteration: 0, B1=0.25952808, mse=493237.7212546963\n",
      "Iteration: 200, B1=5.868748638669329, mse=56522.97550129376\n",
      "Iteration: 400, B1=5.8897415574471985, mse=56516.85850140053\n",
      "Iteration: 600, B1=5.889820124983314, mse=56516.85841572062\n",
      "Iteration: 800, B1=5.88982041902807, mse=56516.8584157194\n",
      "Iteration: 1000, B1=5.8898204201285544, mse=56516.85841571941\n",
      "Iteration: 1200, B1=5.889820420132673, mse=56516.85841571943\n",
      "Iteration: 1400, B1=5.889820420132673, mse=56516.85841571943\n",
      "Iteration: 1600, B1=5.889820420132673, mse=56516.85841571943\n",
      "Iteration: 1800, B1=5.889820420132673, mse=56516.85841571943\n"
     ]
    }
   ],
   "source": [
    "B1 = 0.1\n",
    "for i in range(2000):\n",
    "    B1 -= alpha*(2/n)*np.sum((B1*zp-ks)*zp)\n",
    "    if i%200 == 0:\n",
    "        print('Iteration: {i}, B1={B1}, mse={mse}'.format(i=i, B1=B1, mse=np.mean((B1*zp-ks)**2)))"
   ]
  },
  {
   "cell_type": "markdown",
   "metadata": {},
   "source": [
    "3. Произвести вычисления как в пункте 2, но с вычислением intercept. Учесть, что изменение коэффициентов должно производиться на каждом шаге одновременно (то есть изменение одного коэффициента не должно влиять на изменение другого во время одной итерации)."
   ]
  },
  {
   "cell_type": "code",
   "execution_count": 209,
   "metadata": {},
   "outputs": [
    {
     "data": {
      "text/plain": [
       "3e-06"
      ]
     },
     "execution_count": 209,
     "metadata": {},
     "output_type": "execute_result"
    }
   ],
   "source": [
    "alpha = 3e-6\n",
    "alpha"
   ]
  },
  {
   "cell_type": "code",
   "execution_count": 210,
   "metadata": {},
   "outputs": [],
   "source": [
    "def mse_(B0, B1, y, x, n):\n",
    "    return np.sum((B0+B1*x-y)**2)/n\n",
    "\n",
    "n = 10\n",
    "x = np.array([35, 45, 190, 200, 40, 70, 54, 150, 120, 110])\n",
    "y = np.array([401, 574, 874, 919, 459, 739, 653, 902, 746, 832])\n",
    "\n",
    "B0 = 0.1\n",
    "B1 = 0.2\n"
   ]
  },
  {
   "cell_type": "code",
   "execution_count": 212,
   "metadata": {},
   "outputs": [
    {
     "name": "stdout",
     "output_type": "stream",
     "text": [
      "B0=439.5583563083346, B1=2.6545367720583672, mse=6475.826185259248\n",
      "B0=442.019265607246, B1=2.6364233915878788, mse=6471.595609947732\n",
      "B0=443.1690527487027, B1=2.6279604498766607, mse=6470.6720967401025\n",
      "B0=443.7062568103147, B1=2.6240063904716378, mse=6470.4704984746595\n",
      "B0=443.9572495318372, B1=2.622158973070975, mse=6470.426490592264\n",
      "B0=444.0745184632728, B1=2.621295821888036, mse=6470.4168838939695\n",
      "B0=444.12930890575984, B1=2.620892540007085, mse=6470.414786800289\n",
      "B0=444.15490812076223, B1=2.620704118466605, mse=6470.41432901534\n"
     ]
    }
   ],
   "source": [
    "for i in range(4000000):\n",
    "    y_pred = B0 + B1*x\n",
    "    B0 -= alpha * (2/n) * np.sum(y_pred-y)\n",
    "    B1 -= alpha * (2/n) * np.sum((y_pred-y)*x)\n",
    "    if i % 500000 == 0:\n",
    "        print('B0={B0}, B1={B1}, mse={mse}'.format(B0=B0, B1=B1, mse=mse_(B0, B1, y, x, n)))"
   ]
  },
  {
   "cell_type": "code",
   "execution_count": null,
   "metadata": {},
   "outputs": [],
   "source": []
  },
  {
   "cell_type": "code",
   "execution_count": null,
   "metadata": {},
   "outputs": [],
   "source": []
  }
 ],
 "metadata": {
  "kernelspec": {
   "display_name": "Python 3",
   "language": "python",
   "name": "python3"
  },
  "language_info": {
   "codemirror_mode": {
    "name": "ipython",
    "version": 3
   },
   "file_extension": ".py",
   "mimetype": "text/x-python",
   "name": "python",
   "nbconvert_exporter": "python",
   "pygments_lexer": "ipython3",
   "version": "3.8.5"
  }
 },
 "nbformat": 4,
 "nbformat_minor": 4
}
