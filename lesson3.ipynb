{
 "cells": [
  {
   "cell_type": "code",
   "execution_count": 4,
   "metadata": {},
   "outputs": [],
   "source": [
    "import numpy as np\n",
    "import pandas as pd\n",
    "from math import factorial"
   ]
  },
  {
   "cell_type": "code",
   "execution_count": 5,
   "metadata": {},
   "outputs": [],
   "source": [
    "def combinations(n, k):\n",
    "    return int(factorial(n) / (factorial(k) * factorial(n - k)))"
   ]
  },
  {
   "cell_type": "markdown",
   "metadata": {},
   "source": [
    "Даны значения зарплат из выборки выпускников: 100, 80, 75, 77, 89, 33, 45, 25, 65, 17, 30, 24, 57, 55, 70, 75, 65, 84, 90, 150.\n",
    "\t Посчитать (желательно без использования статистических методов наподобие std, var, mean)\n",
    "\t среднее арифметическое, среднее квадратичное отклонение, смещенную и несмещенную оценки дисперсий для данной выборки."
   ]
  },
  {
   "cell_type": "code",
   "execution_count": 6,
   "metadata": {},
   "outputs": [],
   "source": [
    "salary_list = [100, 80, 75, 77, 89, 33, 45, 25, 65, 17, 30, 24, 57, 55, 70, 75, 65, 84, 90, 150]\n"
   ]
  },
  {
   "cell_type": "code",
   "execution_count": 7,
   "metadata": {},
   "outputs": [
    {
     "data": {
      "text/plain": [
       "65.3"
      ]
     },
     "execution_count": 7,
     "metadata": {},
     "output_type": "execute_result"
    }
   ],
   "source": [
    "#среднее арифметическое\n",
    "salary_list_means = sum(salary_list) / len(salary_list)\n",
    "salary_list_means"
   ]
  },
  {
   "cell_type": "markdown",
   "metadata": {},
   "source": [
    "смещенная и несмещенная оценка дисперсии: $$\\\\S^2 = \\dfrac{1}{n} \\displaystyle\\sum_{i = 1}^n \\left( x_i - \\overline{x} \\right)^2$$\n",
    "$$\\\\S_{unbiased}^2 = \\dfrac{1}{n - 1} \\displaystyle\\sum_{i = 1}^n \\left( x_i - \\overline{x} \\right)^2$$Среднее квадратичное отклонение выборки:$$\\\\S = \\sqrt{\\frac{\\sum\\limits_{i=1}^{n} (x_i - \\overline{x})^2}{n-1}}$$\n"
   ]
  },
  {
   "cell_type": "code",
   "execution_count": 8,
   "metadata": {},
   "outputs": [
    {
     "data": {
      "text/plain": [
       "950.11"
      ]
     },
     "execution_count": 8,
     "metadata": {},
     "output_type": "execute_result"
    }
   ],
   "source": [
    "# смещённая оценка дисперсии\n",
    "D = sum([(i-salary_list_means) ** 2 for i in salary_list]) / len(salary_list)\n",
    "D"
   ]
  },
  {
   "cell_type": "code",
   "execution_count": 9,
   "metadata": {},
   "outputs": [
    {
     "data": {
      "text/plain": [
       "1000.1157894736842"
      ]
     },
     "execution_count": 9,
     "metadata": {},
     "output_type": "execute_result"
    }
   ],
   "source": [
    "# несмещённая оценка дисперсии\n",
    "D_un = sum([(i-salary_list_means) ** 2 for i in salary_list]) / (len(salary_list) - 1)\n",
    "D_un"
   ]
  },
  {
   "cell_type": "code",
   "execution_count": 10,
   "metadata": {},
   "outputs": [
    {
     "data": {
      "text/plain": [
       "31.624607341019814"
      ]
     },
     "execution_count": 10,
     "metadata": {},
     "output_type": "execute_result"
    }
   ],
   "source": [
    "# среднее квадратичное отклонение \n",
    "Qo = np.sqrt(D_un)\n",
    "Qo"
   ]
  },
  {
   "cell_type": "code",
   "execution_count": 11,
   "metadata": {},
   "outputs": [
    {
     "name": "stdout",
     "output_type": "stream",
     "text": [
      "65.3\n",
      "950.11\n",
      "1000.1157894736842\n",
      "31.624607341019814\n"
     ]
    }
   ],
   "source": [
    "# Проверка\n",
    "print(np.mean(salary_list))\n",
    "print(np.var(salary_list, ddof=0))\n",
    "print(np.var(salary_list, ddof=1))\n",
    "print(np.std(salary_list, ddof=1))"
   ]
  },
  {
   "cell_type": "markdown",
   "metadata": {},
   "source": [
    "2. В первом ящике находится 8 мячей, из которых 5 - белые. Во втором ящике - 12 мячей, из которых 5 белых.\n",
    "\t Из первого ящика вытаскивают случайным образом два мяча, из второго - 4. Какова вероятность того, что 3 мяча белые?"
   ]
  },
  {
   "cell_type": "markdown",
   "metadata": {},
   "source": [
    "C(5,2)/C(8,2) * C(5,1)*C(8,3)/C(12,4):"
   ]
  },
  {
   "cell_type": "code",
   "execution_count": 12,
   "metadata": {},
   "outputs": [
    {
     "data": {
      "text/plain": [
       "0.20202020202020202"
      ]
     },
     "execution_count": 12,
     "metadata": {},
     "output_type": "execute_result"
    }
   ],
   "source": [
    "# 1 ящик 2 белых, 2 ящик 1 белый\n",
    "p1 = combinations(5,2)/combinations(8,2) * combinations(5,1)*combinations(8,3)/combinations(12,4)\n",
    "p1"
   ]
  },
  {
   "cell_type": "markdown",
   "metadata": {},
   "source": [
    "C(5,1)*C(3,1)/C(8,2) * C(5,2)*C(8,2)/C(12,4):"
   ]
  },
  {
   "cell_type": "code",
   "execution_count": 13,
   "metadata": {},
   "outputs": [
    {
     "data": {
      "text/plain": [
       "0.30303030303030304"
      ]
     },
     "execution_count": 13,
     "metadata": {},
     "output_type": "execute_result"
    }
   ],
   "source": [
    "# 1 ящик 1 белый, 2 ящик 2 белых\n",
    "p2 = combinations(5,1)*combinations(3,1)/combinations(8,2) * combinations(5,2)*combinations(8,2)/combinations(12,4)\n",
    "p2"
   ]
  },
  {
   "cell_type": "markdown",
   "metadata": {},
   "source": [
    "С(3,2)/C(8,2) * C(5,3)*C(8,1)/C(12,4):"
   ]
  },
  {
   "cell_type": "code",
   "execution_count": 14,
   "metadata": {},
   "outputs": [
    {
     "data": {
      "text/plain": [
       "0.0017316017316017316"
      ]
     },
     "execution_count": 14,
     "metadata": {},
     "output_type": "execute_result"
    }
   ],
   "source": [
    "# 1 ящик 0 белых, 2 ящик 3 белых\n",
    "p3 = combinations(3,2)/combinations(8,2) * combinations(8,1)/combinations(12,4)\n",
    "p3"
   ]
  },
  {
   "cell_type": "code",
   "execution_count": 15,
   "metadata": {},
   "outputs": [
    {
     "data": {
      "text/plain": [
       "0.5067821067821068"
      ]
     },
     "execution_count": 15,
     "metadata": {},
     "output_type": "execute_result"
    }
   ],
   "source": [
    "P = p1 + p2 + p3\n",
    "P"
   ]
  },
  {
   "cell_type": "markdown",
   "metadata": {},
   "source": [
    "3. На соревновании по биатлону один из трех спортсменов стреляет и попадает в мишень.\n",
    "\t Вероятность попадания для первого спортсмена равна 0.9, для второго — 0.8, для третьего — 0.6.\n",
    "\t Найти вероятность того, что выстрел произведен: a). первым спортсменом б). вторым спортсменом в). третьим спортсменом."
   ]
  },
  {
   "cell_type": "code",
   "execution_count": 16,
   "metadata": {},
   "outputs": [],
   "source": [
    "P1 = 0.9\n",
    "P2 = 0.8\n",
    "P3 = 0.6"
   ]
  },
  {
   "cell_type": "code",
   "execution_count": 17,
   "metadata": {},
   "outputs": [
    {
     "data": {
      "text/plain": [
       "0.072"
      ]
     },
     "execution_count": 17,
     "metadata": {},
     "output_type": "execute_result"
    }
   ],
   "source": [
    "#Выстрел произведен 1 спортсменом\n",
    "P = P1*(1-P2)*(1-P3)\n",
    "P"
   ]
  },
  {
   "cell_type": "code",
   "execution_count": 18,
   "metadata": {},
   "outputs": [
    {
     "data": {
      "text/plain": [
       "0.031999999999999994"
      ]
     },
     "execution_count": 18,
     "metadata": {},
     "output_type": "execute_result"
    }
   ],
   "source": [
    "#Выстрел произведен 2 спортсменом\n",
    "P = P2*(1-P1)*(1-P3)\n",
    "P"
   ]
  },
  {
   "cell_type": "code",
   "execution_count": 19,
   "metadata": {},
   "outputs": [
    {
     "data": {
      "text/plain": [
       "0.011999999999999993"
      ]
     },
     "execution_count": 19,
     "metadata": {},
     "output_type": "execute_result"
    }
   ],
   "source": [
    "#Выстрел произведен 3 спортсменом\n",
    "P = P3*(1-P1)*(1-P2)\n",
    "P"
   ]
  },
  {
   "cell_type": "markdown",
   "metadata": {},
   "source": [
    "4. В университет на факультеты A и B поступило равное количество студентов, а на факультет C студентов поступило столько же, сколько на A и B вместе.\n",
    "\t Вероятность того, что студент факультета A сдаст первую сессию, равна 0.8.\n",
    "\t Для студента факультета B эта вероятность равна 0.7, а для студента факультета C - 0.9. Студент сдал первую сессию.\n",
    "\t Какова вероятность, что он учится: a). на факультете A б). на факультете B в). на факультете C?"
   ]
  },
  {
   "cell_type": "code",
   "execution_count": 20,
   "metadata": {},
   "outputs": [
    {
     "data": {
      "text/plain": [
       "0.825"
      ]
     },
     "execution_count": 20,
     "metadata": {},
     "output_type": "execute_result"
    }
   ],
   "source": [
    "# Если на факультеты A и B поступило равное количество студентов, \n",
    "# а на факультет C студентов поступило столько же, сколько на A и B,\n",
    "# то на А и В учится по 1/4 всех студентов (0.25), а на С 1/2 (0/5).\n",
    "# Чтобы оценить безусловную вероятность сдачи первой сессии, воспользуемся формулой полной вероятности:\n",
    "P = 0.25*0.8 + 0.25*0.7 + 0.5*0.9\n",
    "P"
   ]
  },
  {
   "cell_type": "code",
   "execution_count": 21,
   "metadata": {},
   "outputs": [
    {
     "data": {
      "text/plain": [
       "0.24242424242424246"
      ]
     },
     "execution_count": 21,
     "metadata": {},
     "output_type": "execute_result"
    }
   ],
   "source": [
    "# По формуле Байеса:\n",
    "# вероятность, что студент учится на факультете A:\n",
    "P_a = 0.25*0.8/0.825\n",
    "P_a"
   ]
  },
  {
   "cell_type": "code",
   "execution_count": 22,
   "metadata": {},
   "outputs": [
    {
     "data": {
      "text/plain": [
       "0.21212121212121213"
      ]
     },
     "execution_count": 22,
     "metadata": {},
     "output_type": "execute_result"
    }
   ],
   "source": [
    "# вероятность, что студент учится на факультете В:\n",
    "P_b = 0.25*0.7/0.825\n",
    "P_b"
   ]
  },
  {
   "cell_type": "code",
   "execution_count": 23,
   "metadata": {},
   "outputs": [
    {
     "data": {
      "text/plain": [
       "0.5454545454545455"
      ]
     },
     "execution_count": 23,
     "metadata": {},
     "output_type": "execute_result"
    }
   ],
   "source": [
    "# в) вероятность, что студент учится на факультете С:\n",
    "P_c = 0.5*0.9/0.825\n",
    "P_c"
   ]
  },
  {
   "cell_type": "code",
   "execution_count": 24,
   "metadata": {},
   "outputs": [
    {
     "name": "stdout",
     "output_type": "stream",
     "text": [
      "1.0\n"
     ]
    }
   ],
   "source": [
    "print(P_a+P_b+P_c)"
   ]
  },
  {
   "cell_type": "markdown",
   "metadata": {},
   "source": [
    "5. Устройство состоит из трех деталей. Для первой детали вероятность выйти из строя в первый месяц равна 0.1, для второй - 0.2, для третьей - 0.25.\n",
    "\t Какова вероятность того, что в первый месяц выйдут из строя: а). все детали б). только две детали в). хотя бы одна деталь г). от одной до двух деталей?\n"
   ]
  },
  {
   "cell_type": "code",
   "execution_count": 25,
   "metadata": {},
   "outputs": [],
   "source": [
    "p1 = 0.1\n",
    "p2 = 0.2\n",
    "p3 = 0.25\n"
   ]
  },
  {
   "cell_type": "code",
   "execution_count": 26,
   "metadata": {},
   "outputs": [
    {
     "data": {
      "text/plain": [
       "0.005000000000000001"
      ]
     },
     "execution_count": 26,
     "metadata": {},
     "output_type": "execute_result"
    }
   ],
   "source": [
    "#Вероятность того, что выйдут из строя все детали\n",
    "P3 = p1*p2*p3\n",
    "P3"
   ]
  },
  {
   "cell_type": "code",
   "execution_count": 27,
   "metadata": {},
   "outputs": [
    {
     "data": {
      "text/plain": [
       "0.08000000000000002"
      ]
     },
     "execution_count": 27,
     "metadata": {},
     "output_type": "execute_result"
    }
   ],
   "source": [
    "#Вероятность того, что выйдут из строя только две детали детали\n",
    "P2 = p1*p2*(1-p3) + p1*(1-p2)*p3 + (1-p1)*p2*p3\n",
    "P2"
   ]
  },
  {
   "cell_type": "code",
   "execution_count": 28,
   "metadata": {},
   "outputs": [
    {
     "data": {
      "text/plain": [
       "0.45999999999999996"
      ]
     },
     "execution_count": 28,
     "metadata": {},
     "output_type": "execute_result"
    }
   ],
   "source": [
    "#Вероятность того, что выйдет из строя хотя бы одна деталь\n",
    "P_1 = 1 - (1-p1)*(1-p2)*(1-p3)\n",
    "P_1"
   ]
  },
  {
   "cell_type": "code",
   "execution_count": 29,
   "metadata": {},
   "outputs": [
    {
     "data": {
      "text/plain": [
       "0.375"
      ]
     },
     "execution_count": 29,
     "metadata": {},
     "output_type": "execute_result"
    }
   ],
   "source": [
    "\n",
    "#Вероятность того, что выйдет из строя 1 деталь\n",
    "P1 = p1*(1-p2)*(1-p3) + (1-p1)*p2*(1-p3) + (1-p1)*(1-p2)*p3\n",
    "P1"
   ]
  },
  {
   "cell_type": "code",
   "execution_count": 30,
   "metadata": {},
   "outputs": [
    {
     "data": {
      "text/plain": [
       "0.455"
      ]
     },
     "execution_count": 30,
     "metadata": {},
     "output_type": "execute_result"
    }
   ],
   "source": [
    "#Вероятность того, что выйдут из строя от 1 до 2 деталей\n",
    "P12 = P2 + P1\n",
    "P12\n"
   ]
  },
  {
   "cell_type": "code",
   "execution_count": null,
   "metadata": {},
   "outputs": [],
   "source": []
  }
 ],
 "metadata": {
  "kernelspec": {
   "display_name": "Python 3",
   "language": "python",
   "name": "python3"
  },
  "language_info": {
   "codemirror_mode": {
    "name": "ipython",
    "version": 3
   },
   "file_extension": ".py",
   "mimetype": "text/x-python",
   "name": "python",
   "nbconvert_exporter": "python",
   "pygments_lexer": "ipython3",
   "version": "3.8.5"
  }
 },
 "nbformat": 4,
 "nbformat_minor": 4
}
